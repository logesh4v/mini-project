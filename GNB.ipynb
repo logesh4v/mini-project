{
  "nbformat": 4,
  "nbformat_minor": 0,
  "metadata": {
    "colab": {
      "name": "GNB",
      "provenance": []
    },
    "kernelspec": {
      "name": "python3",
      "display_name": "Python 3"
    },
    "language_info": {
      "name": "python"
    }
  },
  "cells": [
    {
      "cell_type": "code",
      "execution_count": null,
      "metadata": {
        "id": "mNC-Q7KV6iXM"
      },
      "outputs": [],
      "source": [
        "!git clone https://github.com/Foursteps-tech/Machine_Learning.git"
      ]
    },
    {
      "cell_type": "code",
      "source": [
        "from pandas import read_csv\n",
        "import numpy as np\n",
        "import sklearn\n",
        "from sklearn.metrics import classification_report\n",
        "from sklearn.naive_bayes import GaussianNB\n",
        "from matplotlib import pyplot as plt\n",
        "from sklearn.model_selection import train_test_split\n",
        "from sklearn.preprocessing import LabelEncoder"
      ],
      "metadata": {
        "id": "9mJaKOZ-6t8G"
      },
      "execution_count": 5,
      "outputs": []
    },
    {
      "cell_type": "code",
      "source": [
        "dataframe = read_csv(\"Machine_Learning/Classification/parkinsons.data\")\n",
        "dataframe.head()"
      ],
      "metadata": {
        "id": "LytTRleb62Qd"
      },
      "execution_count": null,
      "outputs": []
    },
    {
      "cell_type": "code",
      "source": [
        "data=dataframe.loc[:,dataframe.columns!='status'].values[:,1:]\n",
        "labels=dataframe.loc[:,'status'].values\n"
      ],
      "metadata": {
        "id": "YjI3xeWpBwd0"
      },
      "execution_count": 7,
      "outputs": []
    },
    {
      "cell_type": "code",
      "source": [
        "(trainData, testData, trainLabels, testLabels) = train_test_split(np.array(data),\n",
        "\tnp.array(labels), test_size=0.25, random_state=42)"
      ],
      "metadata": {
        "id": "cHK-Y5zmCbAw"
      },
      "execution_count": 8,
      "outputs": []
    },
    {
      "cell_type": "code",
      "source": [
        "model = GaussianNB()"
      ],
      "metadata": {
        "id": "Dcx5YJwwCbbH"
      },
      "execution_count": 11,
      "outputs": []
    },
    {
      "cell_type": "code",
      "source": [
        "model.fit(trainData, trainLabels)"
      ],
      "metadata": {
        "id": "Gi_81LgWCj3A"
      },
      "execution_count": null,
      "outputs": []
    },
    {
      "cell_type": "code",
      "source": [
        "print(model.score(trainData, trainLabels))"
      ],
      "metadata": {
        "id": "Z3UGKRddCnG4"
      },
      "execution_count": null,
      "outputs": []
    },
    {
      "cell_type": "code",
      "source": [
        "print(model.score(testData, testLabels))"
      ],
      "metadata": {
        "id": "t85UtJYOCoKt"
      },
      "execution_count": null,
      "outputs": []
    },
    {
      "cell_type": "code",
      "source": [
        "predictions = model.predict(testData)"
      ],
      "metadata": {
        "id": "jELUCdAhColj"
      },
      "execution_count": 15,
      "outputs": []
    },
    {
      "cell_type": "code",
      "source": [
        "print(classification_report(testLabels, predictions))"
      ],
      "metadata": {
        "id": "ob5eEgGFCq5l"
      },
      "execution_count": null,
      "outputs": []
    }
  ]
}