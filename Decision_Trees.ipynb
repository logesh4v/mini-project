{
  "nbformat": 4,
  "nbformat_minor": 0,
  "metadata": {
    "colab": {
      "name": "Decision_Trees.ipynb",
      "provenance": [],
      "collapsed_sections": []
    },
    "kernelspec": {
      "name": "python3",
      "display_name": "Python 3"
    },
    "language_info": {
      "name": "python"
    }
  },
  "cells": [
    {
      "cell_type": "code",
      "execution_count": null,
      "metadata": {
        "id": "HneWJVi2aPxQ"
      },
      "outputs": [],
      "source": [
        "!git clone https://github.com/Foursteps-tech/Machine_Learning.git"
      ]
    },
    {
      "cell_type": "code",
      "source": [
        "from pandas import read_csv\n",
        "import numpy as np\n",
        "import sklearn\n",
        "from sklearn.metrics import classification_report\n",
        "from sklearn.tree import DecisionTreeClassifier\n",
        "from matplotlib import pyplot as plt\n",
        "from sklearn.model_selection import train_test_split\n",
        "from sklearn import tree"
      ],
      "metadata": {
        "id": "RdKPKjEgi55q"
      },
      "execution_count": 24,
      "outputs": []
    },
    {
      "cell_type": "code",
      "source": [
        "dataframe = read_csv(\"Machine_Learning/Classification/pima-indians-diabetes.csv\",header=None)\n",
        "dataframe.head()"
      ],
      "metadata": {
        "id": "ifgTZYQpjApy"
      },
      "execution_count": null,
      "outputs": []
    },
    {
      "cell_type": "code",
      "source": [
        "dataset = dataframe.values\n",
        "data = dataset[:,0:8].astype(float)\n",
        "labels = dataset[:,8]"
      ],
      "metadata": {
        "id": "goShUhXqmHz5"
      },
      "execution_count": 23,
      "outputs": []
    },
    {
      "cell_type": "code",
      "source": [
        "(trainData, testData, trainLabels, testLabels) = train_test_split(np.array(data),\n",
        "\tnp.array(labels), test_size=0.25, random_state=42)"
      ],
      "metadata": {
        "id": "Wlh5djsbjLsG"
      },
      "execution_count": 25,
      "outputs": []
    },
    {
      "cell_type": "code",
      "source": [
        "#splitter = best, random | max_features = int, auto, log, none | max_depth = int\n",
        "model = DecisionTreeClassifier(random_state=42,criterion='gini',max_features=2, max_depth = 15)"
      ],
      "metadata": {
        "id": "BsOYrJRrjPye"
      },
      "execution_count": 26,
      "outputs": []
    },
    {
      "cell_type": "code",
      "source": [
        "model.fit(trainData, trainLabels)"
      ],
      "metadata": {
        "id": "z9NQKkqEjhw5"
      },
      "execution_count": null,
      "outputs": []
    },
    {
      "cell_type": "code",
      "source": [
        "print(model.score(trainData, trainLabels))"
      ],
      "metadata": {
        "id": "3FF9tYscjlMc"
      },
      "execution_count": null,
      "outputs": []
    },
    {
      "cell_type": "code",
      "source": [
        "print(model.score(testData, testLabels))"
      ],
      "metadata": {
        "id": "rmfDjxVIjnDN"
      },
      "execution_count": null,
      "outputs": []
    },
    {
      "cell_type": "code",
      "source": [
        "predictions = model.predict(testData)"
      ],
      "metadata": {
        "id": "v3xbS0aVjoTi"
      },
      "execution_count": 30,
      "outputs": []
    },
    {
      "cell_type": "code",
      "source": [
        "print(classification_report(testLabels, predictions))"
      ],
      "metadata": {
        "id": "mJsxWe1QjqoP"
      },
      "execution_count": null,
      "outputs": []
    },
    {
      "cell_type": "code",
      "source": [
        "fig = plt.figure(figsize=(45,40))\n",
        "fig = tree.plot_tree(model)\n",
        "plt.show()"
      ],
      "metadata": {
        "id": "XG37pHLBjuIN"
      },
      "execution_count": null,
      "outputs": []
    }
  ]
}